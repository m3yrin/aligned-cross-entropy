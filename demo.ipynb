{
  "nbformat": 4,
  "nbformat_minor": 0,
  "metadata": {
    "colab": {
      "name": "demo.ipynb",
      "provenance": [],
      "private_outputs": true,
      "collapsed_sections": [],
      "mount_file_id": "1ItD6gxuJrevp6SMaXy6I40o8WHG7thPk",
      "authorship_tag": "ABX9TyMXbc4IQl+Wpq/TxkzBFVTl",
      "include_colab_link": true
    },
    "kernelspec": {
      "name": "python3",
      "display_name": "Python 3"
    },
    "accelerator": "GPU"
  },
  "cells": [
    {
      "cell_type": "markdown",
      "metadata": {
        "id": "view-in-github",
        "colab_type": "text"
      },
      "source": [
        "<a href=\"https://colab.research.google.com/github/m3yrin/aligned-cross-entropy/blob/master/demo.ipynb\" target=\"_parent\"><img src=\"https://colab.research.google.com/assets/colab-badge.svg\" alt=\"Open In Colab\"/></a>"
      ]
    },
    {
      "cell_type": "markdown",
      "metadata": {
        "id": "QKF5dDlKPdLT",
        "colab_type": "text"
      },
      "source": [
        "# Demo code of m3yrin/aligned-cross-entropy\n",
        "auther: @m3yrin\n",
        "\n"
      ]
    },
    {
      "cell_type": "code",
      "metadata": {
        "id": "tUgkG7ZTiRRM",
        "colab_type": "code",
        "colab": {}
      },
      "source": [
        "!nvidia-smi"
      ],
      "execution_count": null,
      "outputs": []
    },
    {
      "cell_type": "code",
      "metadata": {
        "id": "DvKy0tbCRel5",
        "colab_type": "code",
        "colab": {}
      },
      "source": [
        "!git clone https://github.com/m3yrin/aligned-cross-entropy.git\n",
        "%cd aligned-cross-entropy\n",
        "!ls"
      ],
      "execution_count": null,
      "outputs": []
    },
    {
      "cell_type": "markdown",
      "metadata": {
        "id": "O6ljBP5VbKS4",
        "colab_type": "text"
      },
      "source": [
        "## AXE"
      ]
    },
    {
      "cell_type": "code",
      "metadata": {
        "id": "tXBBF_PPSSUS",
        "colab_type": "code",
        "colab": {}
      },
      "source": [
        "!cat axe/axe.py"
      ],
      "execution_count": null,
      "outputs": []
    },
    {
      "cell_type": "markdown",
      "metadata": {
        "id": "c2O5ewRxSW4J",
        "colab_type": "text"
      },
      "source": [
        "## Demo\n",
        "This notebook is a example code for testing axe on\n",
        "Latent alignment model. (CMLM model is still under construction..)  \n",
        "https://arxiv.org/abs/2004.07437\n",
        "* Base implementatios is https://github.com/m3yrin/nar-latent-alignment. Built on AllenNLP 0.9.0"
      ]
    },
    {
      "cell_type": "code",
      "metadata": {
        "id": "BOccYVfnQZIP",
        "colab_type": "code",
        "colab": {}
      },
      "source": [
        "!pip install allennlp==0.9.0"
      ],
      "execution_count": null,
      "outputs": []
    },
    {
      "cell_type": "markdown",
      "metadata": {
        "id": "znKD2RggSqNe",
        "colab_type": "text"
      },
      "source": [
        "Dataset is an En-Ja parallel provided by @odashi.  \n",
        "See detail at https://github.com/odashi/small_parallel_enja"
      ]
    },
    {
      "cell_type": "code",
      "metadata": {
        "id": "_7DkJggcrO6o",
        "colab_type": "code",
        "colab": {}
      },
      "source": [
        "%cd demos/datasets\n",
        "!git clone https://github.com/odashi/small_parallel_enja.git\n",
        "!ls small_parallel_enja\n",
        "%cd ../../"
      ],
      "execution_count": null,
      "outputs": []
    },
    {
      "cell_type": "markdown",
      "metadata": {
        "id": "oysm1s1obZ3_",
        "colab_type": "text"
      },
      "source": [
        "### Config"
      ]
    },
    {
      "cell_type": "code",
      "metadata": {
        "id": "_oi8f_Fwtd4o",
        "colab_type": "code",
        "colab": {}
      },
      "source": [
        "# check common config.\n",
        "!cat demos/configs/common.jsonnet"
      ],
      "execution_count": null,
      "outputs": []
    },
    {
      "cell_type": "code",
      "metadata": {
        "id": "EOKwiJH2tuc0",
        "colab_type": "code",
        "colab": {}
      },
      "source": [
        "%%writefile demos/configs/common.jsonnet\n",
        "# if you don't use cuda, cuda_device=-1\n",
        "local cuda_device = 0;\n",
        "\n",
        "# https://arxiv.org/pdf/2004.07437.pdf\n",
        "# Our models consists of 12 self-attention\n",
        "# layers, with 512 hidden size, 2048 filter size, and\n",
        "# 8 attention heads per layer. We use 0.1 dropout\n",
        "# for regularization. \n",
        "\n",
        "{\n",
        "    \"direction\" : \"ja-en\",\n",
        "    \"train_data_path\": \"demos/datasets/small_parallel_enja/train\",\n",
        "    \"validation_data_path\": \"demos/datasets/small_parallel_enja/dev\",\n",
        "\n",
        "    \"embedding_dim\" : 128,\n",
        "    \"feedforward_hidden_dim\" : 2048,\n",
        "    \"num_layers\" : 12,\n",
        "\n",
        "    \"batch_size\" : 256,\n",
        "    \"min_count\" : 2,\n",
        "\n",
        "    \"num_epochs\" : 150,\n",
        "    \"patience\": 10,\n",
        "    \"cuda_device\" : cuda_device,\n",
        "}"
      ],
      "execution_count": null,
      "outputs": []
    },
    {
      "cell_type": "code",
      "metadata": {
        "id": "p-Qhpn-W0YI-",
        "colab_type": "code",
        "colab": {}
      },
      "source": [
        "# check model config.\n",
        "!cat demos/configs/axe.jsonnet"
      ],
      "execution_count": null,
      "outputs": []
    },
    {
      "cell_type": "code",
      "metadata": {
        "id": "WNdg9uy20dfX",
        "colab_type": "code",
        "colab": {}
      },
      "source": [
        "%%writefile demos/configs/axe.jsonnet\n",
        "# common settings\n",
        "local COMMON = import 'common.jsonnet';\n",
        "\n",
        "local direction = COMMON['direction'];\n",
        "local train_data_path = COMMON['train_data_path'];\n",
        "local validation_data_path = COMMON['validation_data_path'];\n",
        "\n",
        "local embedding_dim = COMMON['embedding_dim'];\n",
        "local feedforward_hidden_dim = COMMON['feedforward_hidden_dim'];\n",
        "local num_layers = COMMON['num_layers'];\n",
        "local num_epochs = COMMON['num_epochs'];\n",
        "local batch_size = COMMON['batch_size'];\n",
        "local patience = COMMON['patience'];\n",
        "local min_count = COMMON['min_count'];\n",
        "local cuda_device = COMMON['cuda_device'];\n",
        "\n",
        "local learning_rate_ctc = 0.001;\n",
        "local SPECIAL_BLANK_TOKEN = \"@@BLANK@@\";\n",
        "\n",
        "{\n",
        "    \"dataset_reader\": {\n",
        "      \"type\": \"small_parallel_enja_reader\",\n",
        "      \"direction\" : direction,\n",
        "      \"add_start_end_tokens\" : false, # the model doesn't use BOS/EOS for now.\n",
        "    },\n",
        "    \"train_data_path\": train_data_path,\n",
        "    \"validation_data_path\": validation_data_path,\n",
        "    \"model\": {\n",
        "        \"type\": \"latent_alignment_ctc\",\n",
        "        \"source_embedder\": {\n",
        "            \"type\": \"basic\",\n",
        "            \"token_embedders\": {\n",
        "                \"tokens\": {\n",
        "                    \"type\": \"embedding\",\n",
        "                    \"embedding_dim\": embedding_dim\n",
        "                }\n",
        "            },\n",
        "        },\n",
        "        \"net\": {\n",
        "            \"type\": \"bidirectional_language_model_transformer\",\n",
        "            \"input_dim\": embedding_dim,\n",
        "            \"hidden_dim\": feedforward_hidden_dim,\n",
        "            \"num_layers\": num_layers,\n",
        "        },\n",
        "        \"loss_type\" : \"axe\",\n",
        "        \"label_smoothing\" : 0.1,\n",
        "    },\n",
        "    \"iterator\": {\n",
        "        \"type\": \"bucket\",\n",
        "        \"sorting_keys\": [\n",
        "            [\n",
        "                \"source_tokens\",\n",
        "                \"num_tokens\"\n",
        "            ]\n",
        "        ],\n",
        "        \"batch_size\": batch_size\n",
        "    },\n",
        "    \"trainer\": {\n",
        "        \"optimizer\": {\n",
        "            \"type\": \"adam\",\n",
        "            \"lr\": learning_rate_ctc\n",
        "        },\n",
        "        \"patience\": patience,\n",
        "        \"validation_metric\": \"+BLEU\",\n",
        "        \"num_epochs\": num_epochs,\n",
        "        \"cuda_device\": cuda_device,\n",
        "        \"learning_rate_scheduler\": {\n",
        "            \"type\": \"exponential\",\n",
        "            \"gamma\": 0.98\n",
        "        },\n",
        "    },\n",
        "    \"vocabulary\": {\n",
        "        \"min_count\": {\n",
        "            \"source_tokens\": min_count,\n",
        "            \"target_tokens\": min_count\n",
        "        },\n",
        "        \"tokens_to_add\": {\n",
        "            \"target_tokens\": [\n",
        "                SPECIAL_BLANK_TOKEN\n",
        "            ]\n",
        "        }\n",
        "    }\n",
        "}"
      ],
      "execution_count": null,
      "outputs": []
    },
    {
      "cell_type": "markdown",
      "metadata": {
        "id": "_eQJkN5MT1KL",
        "colab_type": "text"
      },
      "source": [
        "### Training"
      ]
    },
    {
      "cell_type": "code",
      "metadata": {
        "id": "DYKYVB5YsFaj",
        "colab_type": "code",
        "colab": {}
      },
      "source": [
        "!allennlp train -f --include-package demos -s demos/tmp demos/configs/axe.jsonnet"
      ],
      "execution_count": null,
      "outputs": []
    },
    {
      "cell_type": "markdown",
      "metadata": {
        "id": "xScwuNGhT3NE",
        "colab_type": "text"
      },
      "source": [
        "### Evaluation"
      ]
    },
    {
      "cell_type": "code",
      "metadata": {
        "id": "LR6evNjbWWQw",
        "colab_type": "code",
        "colab": {}
      },
      "source": [
        "!allennlp evaluate --output-file demos/tmp/output_test.json --include-package demos demos/tmp/model.tar.gz demos/datasets/small_parallel_enja/test"
      ],
      "execution_count": null,
      "outputs": []
    },
    {
      "cell_type": "markdown",
      "metadata": {
        "id": "v-oY2CmrT77E",
        "colab_type": "text"
      },
      "source": [
        "### Prediction"
      ]
    },
    {
      "cell_type": "code",
      "metadata": {
        "id": "S0q-usPQxCy5",
        "colab_type": "code",
        "colab": {}
      },
      "source": [
        "!python demos/datasets/make_json.py -I demos/datasets/small_parallel_enja/test.ja -O demos/datasets/test.ja.json"
      ],
      "execution_count": null,
      "outputs": []
    },
    {
      "cell_type": "code",
      "metadata": {
        "id": "Qe4garxVVtlS",
        "colab_type": "code",
        "colab": {}
      },
      "source": [
        "!allennlp predict --output-file demos/tmp/output_pred.json --include-package demos --predictor small_parallel_enja_predictor  demos/tmp/model.tar.gz demos/datasets/test.ja.json  --silent"
      ],
      "execution_count": null,
      "outputs": []
    },
    {
      "cell_type": "code",
      "metadata": {
        "id": "anjV-KQ2RqNs",
        "colab_type": "code",
        "colab": {}
      },
      "source": [
        "!cat demos/tmp/output_pred.json"
      ],
      "execution_count": null,
      "outputs": []
    },
    {
      "cell_type": "markdown",
      "metadata": {
        "id": "1v1-SEr7QyXn",
        "colab_type": "text"
      },
      "source": [
        "### For comparison\n",
        "Using CTC as loss function as https://arxiv.org/abs/2004.07437"
      ]
    },
    {
      "cell_type": "code",
      "metadata": {
        "id": "D_2j68nuWm6f",
        "colab_type": "code",
        "colab": {}
      },
      "source": [
        "!cat demos/configs/ctc.jsonnet"
      ],
      "execution_count": null,
      "outputs": []
    },
    {
      "cell_type": "code",
      "metadata": {
        "id": "Zy-X729zRZ0K",
        "colab_type": "code",
        "colab": {}
      },
      "source": [
        "# %%writefile demos/configs/ctc.jsonnet"
      ],
      "execution_count": null,
      "outputs": []
    },
    {
      "cell_type": "code",
      "metadata": {
        "id": "IdNNccgdRckn",
        "colab_type": "code",
        "colab": {}
      },
      "source": [
        "!allennlp train -f --include-package demos -s demos/tmp_ctc demos/configs/ctc.jsonnet"
      ],
      "execution_count": null,
      "outputs": []
    },
    {
      "cell_type": "code",
      "metadata": {
        "id": "H_ik3fZeRexU",
        "colab_type": "code",
        "colab": {}
      },
      "source": [
        "!allennlp evaluate --output-file demos/tmp_ctc/output_test.json --cuda-device 0 --include-package demos demos/tmp_ctc/model.tar.gz demos/datasets/small_parallel_enja/test"
      ],
      "execution_count": null,
      "outputs": []
    },
    {
      "cell_type": "code",
      "metadata": {
        "id": "847Uil0uRiVv",
        "colab_type": "code",
        "colab": {}
      },
      "source": [
        "#!python datasets/make_json.py -I datasets/small_parallel_enja/test.ja -O datasets/test.ja.json"
      ],
      "execution_count": null,
      "outputs": []
    },
    {
      "cell_type": "code",
      "metadata": {
        "id": "H0lCT7rPRkve",
        "colab_type": "code",
        "colab": {}
      },
      "source": [
        "!allennlp predict --output-file demos/tmp_ctc/output_pred.json --cuda-device 0 --include-package demos --predictor small_parallel_enja_predictor  demos/tmp_ctc/model.tar.gz demos/datasets/test.ja.json --silent"
      ],
      "execution_count": null,
      "outputs": []
    },
    {
      "cell_type": "code",
      "metadata": {
        "id": "I61SQknvRoLh",
        "colab_type": "code",
        "colab": {}
      },
      "source": [
        "!cat demos/tmp_ctc/output_pred.json"
      ],
      "execution_count": null,
      "outputs": []
    }
  ]
}